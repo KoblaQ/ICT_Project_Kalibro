{
 "cells": [
  {
   "cell_type": "code",
   "execution_count": 1,
   "metadata": {},
   "outputs": [
    {
     "data": {
      "text/plain": [
       "True"
      ]
     },
     "execution_count": 1,
     "metadata": {},
     "output_type": "execute_result"
    }
   ],
   "source": [
    "import openai\n",
    "import os\n",
    "\n",
    "from dotenv import load_dotenv\n",
    "load_dotenv() # take environment variables from .env.\n",
    "\n"
   ]
  },
  {
   "cell_type": "code",
   "execution_count": null,
   "metadata": {},
   "outputs": [
    {
     "name": "stdout",
     "output_type": "stream",
     "text": [
      "\n",
      "Analyze the uploaded image and provide a JSON report covering the following aspects concisely:\n",
      "\n",
      "1. Art Style**: Briefly describe the artistic influences or movements observed, if any.\n",
      "2. **Design Style**: Summarize the layout, use of elements (e.g., icons, text, imagery), and applied design principles (e.g., minimalism, modernism).\n",
      "3. **Image Theme and Category**: Classify the image theme (e.g., community, advertisement) and category (e.g., public services, event promotion).\n",
      "4. **Colors**: List the dominant colors and briefly note their emotional or psychological impact.\n",
      "5. **Sentiment**: Provide the overall mood or sentiment conveyed (e.g., inviting, professional).\n",
      "\n",
      "Format the response as a JSON object, like this:\n",
      "{\n",
      "    \"art_style\": \"Example response\",\n",
      "    \"design_style\": \"Example response\",\n",
      "    \"theme_category\": \"Example response\",\n",
      "    \"colors\": [\"Color1\", \"Color2\", ...],\n",
      "    \"sentiment\": \"Example response\"\n",
      "}\n",
      "\n",
      "Keep the response concise, under 300 tokens.\n",
      "\n"
     ]
    }
   ],
   "source": [
    "#Load OpenAI API key\n",
    "OPENAI_API_KEY = os.getenv(\"OPENAI_API_KEY\")\n",
    "#Set OpenAI API key\n",
    "open.ai_key = OPENAI_API_KEY\n",
    "\n",
    "prompt = \"\"\"\n",
    "Analyze the uploaded image and provide a JSON report covering the following aspects concisely:\n",
    "\n",
    "1. Art Style**: Briefly describe the artistic influences or movements observed, if any.\n",
    "2. **Design Style**: Summarize the layout, use of elements (e.g., icons, text, imagery), and applied design principles (e.g., minimalism, modernism).\n",
    "3. **Image Theme and Category**: Classify the image theme (e.g., community, advertisement) and category (e.g., public services, event promotion).\n",
    "4. **Colors**: List the dominant colors and briefly note their emotional or psychological impact.\n",
    "5. **Sentiment**: Provide the overall mood or sentiment conveyed (e.g., inviting, professional).\n",
    "\n",
    "Format the response as a JSON object, like this:\n",
    "{\n",
    "    \"art_style\": \"Example response\",\n",
    "    \"design_style\": \"Example response\",\n",
    "    \"theme_category\": \"Example response\",\n",
    "    \"colors\": [\"Color1\", \"Color2\", ...],\n",
    "    \"sentiment\": \"Example response\"\n",
    "}\n",
    "\n",
    "Keep the response concise, under 300 tokens.\n",
    "\"\"\"\n",
    "\n",
    "def generate_chatgpt_response(prompt):\n",
    "    response = openai.Completion.create(\n",
    "        model=\"gpt-4\",  # Replace with \"gpt-3.5-turbo\" for lower-cost generation\n",
    "        messages=[\n",
    "            {\"role\": \"system\", \"content\": \"You are a helpful assistant specializing in image analysis and design.\"},\n",
    "            {\"role\": \"user\", \"content\": prompt}\n",
    "        ],\n",
    "        max_tokens = 300, # Ensures cost efficiency\n",
    "        # n=1,\n",
    "        # stop=None,\n",
    "        temperature= 0.7, # Adjusts creativity of the response\n",
    "    )\n",
    "    return response.choices[0].text.strip()\n",
    "\n",
    "print(prompt)\n",
    "# # Usage example\n",
    "# if __name__ == \"__main__\":\n",
    "#     user_input = input(\"Ask me anything: \")\n",
    "#     chatgpt_response = generate_chatgpt_response(user_input)\n",
    "#     print(chatgpt_response)"
   ]
  }
 ],
 "metadata": {
  "kernelspec": {
   "display_name": "venv",
   "language": "python",
   "name": "python3"
  },
  "language_info": {
   "codemirror_mode": {
    "name": "ipython",
    "version": 3
   },
   "file_extension": ".py",
   "mimetype": "text/x-python",
   "name": "python",
   "nbconvert_exporter": "python",
   "pygments_lexer": "ipython3",
   "version": "3.13.1"
  }
 },
 "nbformat": 4,
 "nbformat_minor": 2
}
