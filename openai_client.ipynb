{
 "cells": [
  {
   "cell_type": "code",
   "execution_count": null,
   "metadata": {},
   "outputs": [],
   "source": [
    "import openai\n",
    "import os\n",
    "\n",
    "from dotenv import load_dotenv\n",
    "load_dotenv() # take environment variables from .env.\n",
    "\n",
    "# Import prompts\n",
    "import prompts\n",
    "\n",
    "# Import images\n",
    "import images\n",
    "\n",
    "# For image processing\n",
    "import cv2\n",
    "\n",
    "import json"
   ]
  },
  {
   "cell_type": "code",
   "execution_count": null,
   "metadata": {},
   "outputs": [],
   "source": [
    "#Load OpenAI API key\n",
    "OPENAI_API_KEY = os.getenv(\"OPENAI_API_KEY\")\n",
    "#Set OpenAI API key\n",
    "open.ai_key = OPENAI_API_KEY\n",
    "\n",
    "prompt = prompts.prompt1\n",
    "image_path = \".\\images\\screenshot_1.png\"\n",
    "\n",
    "# with open(image_path, \"rb\") as image_file:\n",
    "#     image_data = image_path.read()\n",
    "\n",
    "image_data = cv2.imread(\".\\images\\screenshot_1.png\", cv2.IMREAD_COLOR)\n",
    "\n",
    "# Call the OpenAI API\n",
    "def generate_chatgpt_response(prompt):\n",
    "    response = openai.Completion.create(\n",
    "        model=\"gpt-4\",  # Replace with \"gpt-3.5-turbo\" for lower-cost generation\n",
    "        # Add the prompt to the chat history\n",
    "        messages=[\n",
    "            {\"role\": \"system\", \"content\": \"You are a helpful assistant specializing in image analysis and design.\"},\n",
    "            {\"role\": \"user\", \"content\": prompt}\n",
    "        ],\n",
    "        # Add the image to the prompt\n",
    "        files = [\n",
    "            {\"name\": \"image.png\", \"content\": image_data}\n",
    "        ],\n",
    "        max_tokens = 300, # Ensures cost efficiency\n",
    "        temperature= 0.7, # Adjusts creativity of the response\n",
    "    )\n",
    "\n",
    "    output = response[\"choices\"][0][\"message\"][\"content\"]\n",
    "    return output\n",
    "\n",
    "# print(generate_chatgpt_response(prompt))\n",
    "\n",
    "print(prompt)\n",
    "# # Usage example\n",
    "# if __name__ == \"__main__\":\n",
    "#     user_input = input(\"Ask me anything: \")\n",
    "#     chatgpt_response = generate_chatgpt_response(user_input)\n",
    "#     print(chatgpt_response)"
   ]
  },
  {
   "cell_type": "code",
   "execution_count": null,
   "metadata": {},
   "outputs": [],
   "source": [
    "import json\n",
    "with open('response.json') as Prompt_Response:\n",
    "    output = Prompt_Response.read()\n",
    "\n",
    "parsed_output = json.loads(output)\n",
    "\n",
    "\n",
    "art_style = parsed_output[\"art_style\"]\n",
    "design_style = parsed_output[\"design_style\"]\n",
    "theme_category = parsed_output[\"theme_category\"]\n",
    "colors = parsed_output[\"colors\"]\n",
    "sentiment = parsed_output[\"sentiment\"]\n",
    "\n",
    "print(parsed_output)\n",
    "# print(output)\n"
   ]
  },
  {
   "cell_type": "code",
   "execution_count": null,
   "metadata": {},
   "outputs": [],
   "source": [
    "import cv2 as cv\n",
    "\n",
    "img = cv.imread(\".\\images\\screenshot_1.png\", cv.IMREAD_COLOR)\n",
    "\n",
    "cv.imshow(\"Display window\", img)\n",
    "\n",
    "k = cv.waitKey(0)\n",
    "cv.destroyAllWindows()\n"
   ]
  }
 ],
 "metadata": {
  "kernelspec": {
   "display_name": "venv",
   "language": "python",
   "name": "python3"
  },
  "language_info": {
   "codemirror_mode": {
    "name": "ipython",
    "version": 3
   },
   "file_extension": ".py",
   "mimetype": "text/x-python",
   "name": "python",
   "nbconvert_exporter": "python",
   "pygments_lexer": "ipython3",
   "version": "3.13.1"
  }
 },
 "nbformat": 4,
 "nbformat_minor": 2
}
